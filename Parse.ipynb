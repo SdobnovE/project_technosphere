{
 "cells": [
  {
   "cell_type": "code",
   "execution_count": 55,
   "metadata": {
    "scrolled": true
   },
   "outputs": [],
   "source": [
    "from sklearn.tree import DecisionTreeClassifier\n",
    "import pandas as pd\n",
    "import sklearn\n",
    "import scipy\n",
    "import numpy as np\n",
    "import matplotlib.pyplot as plt\n",
    "from html_sanitizer import Sanitizer\n",
    "from sklearn.linear_model import SGDClassifier\n",
    "from sklearn.model_selection import GroupKFold\n",
    "from sklearn.model_selection import KFold\n",
    "from sklearn.metrics import f1_score\n",
    "from sklearn.metrics import roc_auc_score\n",
    "import random as rnd\n",
    "from sklearn.metrics import f1_score\n",
    "from sklearn.linear_model import LinearRegression\n",
    "from sklearn.preprocessing import StandardScaler\n",
    "from sklearn.feature_extraction.text import TfidfVectorizer\n",
    "from nltk.corpus import stopwords\n",
    "from pymystem3 import Mystem\n",
    "from string import punctuation\n",
    "from nltk.stem import WordNetLemmatizer\n",
    "import bs4\n",
    "from sklearn.cluster import KMeans\n",
    "from sklearn.cluster import DBSCAN\n",
    "from sklearn.ensemble import RandomForestClassifier\n",
    "import xgboost\n",
    "from sklearn.preprocessing import normalize\n",
    "import os\n",
    "import transliterate"
   ]
  },
  {
   "cell_type": "code",
   "execution_count": 62,
   "metadata": {},
   "outputs": [],
   "source": [
    "mystem = Mystem() \n",
    "rus_stopwords = stopwords.words(\"russian\")\n",
    "eng_stopwords = stopwords.words(\"english\")\n",
    "html_stopwords = [\"0\",\"1\",\"2\",\"3\",\"4\",\"5\",\"6\",\"7\",\"8\",\"9\",\n",
    "                  \"span\", \"br\", \"a\", \"href\", \"img\", \"www\", \"com\", \n",
    "                  \"google\", \"ru\", \"html\", \"http\", \"https\", \"jpg\", \"src\", \n",
    "                  \"alt\", \"div\", \"png\"]"
   ]
  },
  {
   "cell_type": "code",
   "execution_count": 46,
   "metadata": {},
   "outputs": [],
   "source": [
    "path = \"./content/content/\"\n",
    "files = os.listdir(path=path) "
   ]
  },
  {
   "cell_type": "code",
   "execution_count": 47,
   "metadata": {},
   "outputs": [],
   "source": [
    "with open(\"words.txt\", \"r\") as f:\n",
    "    my_stopwords = f.read().split(\" \")"
   ]
  },
  {
   "cell_type": "code",
   "execution_count": 49,
   "metadata": {},
   "outputs": [],
   "source": [
    "texts = np.array(pd.read_csv(\"Inf.csv\")[\"information\"])"
   ]
  },
  {
   "cell_type": "code",
   "execution_count": 63,
   "metadata": {},
   "outputs": [],
   "source": [
    "text = texts[100]"
   ]
  },
  {
   "cell_type": "code",
   "execution_count": 64,
   "metadata": {},
   "outputs": [
    {
     "data": {
      "text/plain": [
       "'ваз 2112 ремонт свой рука передний мост сборка  разборка редуктор передний мост нива 2121  ваз 2131  лада 4х4 ремонт передний мост  ваз 2121  нива  разборка  сборка раздаточный коробка нива 2121  ваз 2131  лада 4х4 ваз 2112 ремонт свой рука передний мост  ремонт ваз свой рука  remontysvoimirukami      alt    src   templates agency lite assets  logodark png      главный    контакт   contact    alt  главный  src   images house png  style  float  left border  none margin  1px padding  0 5px 0 5px       ремонт ваз свой рука  remont vaz svoimi rukami  автомобиль  remont avtomobilej svoimi rukami  кпп  remont kpp svoimi rukami  балкон  remont balkona svoimi rukam  бампер  remont bampera svoimi rukami  бензопила  remont benzopily svoimi rukami  ваз  remont vaz svoimi rukami  ванный  remont vannoj svoimi rukami  велосипед  remont velosipeda svoimi rukami  водонагреватель  remont vodonagrevatelej svoimi rukami  генератор  remont generatora svoimi rukami  дверь  remont dverej svoimi rukami  двигатель  remont dvigatelja svoimi rukami  дом  remont doma svoimi rukami  карбюратор  remont karbjuratora svoimi rukami  квартира  remont kvartiry svoimi rukami  колонка  remont kolonok svoimi rukami  комната  remont komnaty svoimi rukami  компьютер  remont kompjutera svoimi rukami  кондиционер  remont kondicionerov svoimi rukami  коробка передача  remont korobki peredach svoimi rukami  крыша  remont kryshi svoimi rukami  кузов  remont kuzova svoimi rukami  кухня  remont kuhni svoimi rukami  лодка  remont lodki svoimi rukami  машина  remont mashiny svoimi rukami  микроволновка  remont mikrovolnovki svoimi rukami  мотоблок  remont motoblokov svoimi rukami  насос  remont nasosov svoimi rukami  ноутбук  remont noutbuka svoimi rukami  перфоратор  remont perforatora svoimi rukami  подвеска  remont podveski svoimi rukami  потолок  remont potolka svoimi rukami  пылесос  remont pylesosa svoimi rukami  редуктор  remont reduktora svoimi rukami  рулевой рейка  remont rulevoj rejki svoimi rukami  спальня  remont spalni svoimi rukami  стартер  remont startera svoimi rukami  стекло  remont stekla svoimi rukami  стиральный машина  remont stiralnyh mashin svoimi rukami  телевизор  remont televizora svoimi rukami  триммер  remont trimmera svoimi rukami  туалет  remont tualeta svoimi rukami  ходовой  remont hodovoj svoimi rukami  холодильник  remont holodilnika svoimi rukami  электротехника  remont jelektrotehniki svoimi rukami   div style  width  100px  height  80px  float  left  background image  url  images remont vaz svoimi rukami remont pechki vaz 2110 svoimi rukami video 1 jpg   background position  center center  background size  120px     div   remont vaz svoimi rukami remont pechki vaz 2110 svoimi rukami video  ремонт печка ваз 2110 свой рука видео  remont vaz svoimi rukami remont pechki vaz 2110 svoimi rukami video   далее     remont vaz svoimi rukami remont pechki vaz 2110 svoimi rukami video   div style  width  100px  height  80px  float  left  background image  url  images remont karbjuratora svoimi rukami remont karbjuratora gazonokosilki svoimi rukami 1 jpg   background position  center center  background size  120px     div   remont karbjuratora svoimi rukami remont karbjuratora gazonokosilki svoimi rukami  ремонт карбюратор газонокосилка свой рука видео  remont karbjuratora svoimi rukami remont karbjuratora gazonokosilki svoimi rukami   далее     remont karbjuratora svoimi rukami remont karbjuratora gazonokosilki svoimi rukami   div style  width  100px  height  80px  float  left  background image  url  images remont nasosov svoimi rukami remont nasosa gazovogo kotla rukami 1 jpg   background position  center center  background size  120px     div   remont nasosov svoimi rukami remont nasosa gazovogo kotla rukami  ремонт насос газовый котел рука  remont nasosov svoimi rukami remont nasosa gazovogo kotla rukami   далее     remont nasosov svoimi rukami remont nasosa gazovogo kotla rukami   div style  width  100px  height  80px  float  left  background image  url  images remont pylesosa svoimi rukami remont pylesosa redmond svoimi rukami video 1 jpg   background position  center center  background size  120px     div   remont pylesosa svoimi rukami remont pylesosa redmond svoimi rukami video  ремонт пылесос редмонд свой рука видео  remont pylesosa svoimi rukami remont pylesosa redmond svoimi rukami video   далее     remont pylesosa svoimi rukami remont pylesosa redmond svoimi rukami video   div style  width  100px  height  80px  float  left  background image  url  images remont stiralnyh mashin svoimi rukami remont stiralnyh mashin svoimi rukami siemens 1080 1 jpg   background position  center center  background size  120px     div   remont stiralnyh mashin svoimi rukami remont stiralnyh mashin svoimi rukami siemens 1080  ремонт стиральный машина свой рука siemens 1080  remont stiralnyh mashin svoimi rukami remont stiralnyh mashin svoimi rukami siemens 1080   далее     remont stiralnyh mashin svoimi rukami remont stiralnyh mashin svoimi rukami siemens 1080   div style  width  100px  height  80px  float  left  background image  url  images remont nasosov svoimi rukami remont nasosa oazis svoimi rukami 1 png   background position  center center  background size  120px     div   remont nasosov svoimi rukami remont nasosa oazis svoimi rukami  ремонт насос оазис свой рука  remont nasosov svoimi rukami remont nasosa oazis svoimi rukami   далее     remont nasosov svoimi rukami remont nasosa oazis svoimi rukami   div style  width  100px  height  80px  float  left  background image  url  images remont stiralnyh mashin svoimi rukami remont dvigatelja stiralnoj mashiny lg svoimi 12 1 jpg   background position  center center  background size  120px     div   remont stiralnyh mashin svoimi rukami remont dvigatelja stiralnoj mashiny lg svoimi  ремонт двигатель стиральный машина lg свой рука  remont stiralnyh mashin svoimi rukami remont dvigatelja stiralnoj mashiny lg svoimi   далее     remont stiralnyh mashin svoimi rukami remont dvigatelja stiralnoj mashiny lg svoimi   div style  width  100px  height  80px  float  left  background image  url  images remont kvartiry svoimi rukami remont kvartiry svoimi rukami foto v hrushhevke 1 jpeg   background position  center center  background size  120px     div   remont kvartiry svoimi rukami remont kvartiry svoimi rukami foto v hrushhevke  ремонт квартира свой рука фото  хрущевка  remont kvartiry svoimi rukami remont kvartiry svoimi rukami foto v hrushhevke   далее     remont kvartiry svoimi rukami remont kvartiry svoimi rukami foto v hrushhevke   idxskip ремонт насос опрыскиватель жук свой рука  idxskip   remont nasosov svoimi rukami remont nasosa opryskivatelja zhuk svoimi rukami  насос дозатор ремонт свой рука  remont nasosov svoimi rukami nasos dozator remont svoimi rukami  ремонт насос опрыскиватель рука  remont nasosov svoimi rukami remont nasosa opryskivatelja rukami   idxskip ремонт холодильник око 6 свой рука  idxskip   remont holodilnika svoimi rukami remont holodilnika oka 6 svoimi rukami   idxskip ремонт гибкий вал триммер свой рука  idxskip   remont trimmera svoimi rukami remont gibkogo vala trimmera svoimi rukami  ремонт телевизор свой рука  remont televizora svoimi rukami remont televizora svoimi rukami 2  насос кама 8 ремонт свой рука  remont nasosov svoimi rukami nasos kama 8 remont svoimi rukami  ремонт кпп т 25 свой рука видео  remont kpp svoimi rukami remont kpp  25 svoimi rukami video  стиральный машина сименс ремонт свой рука  remont stiralnyh mashin svoimi rukami stiralnaja mashina simens remont svoimi rukami  ремонт ванный акрил свой рука  remont vannoj svoimi rukami remont vannoj akrilom svoimi rukami  ремонт тахометр ваз 2106 свой рука  remont vaz svoimi rukami remont tahometra vaz 2106 svoimi rukami   \\n'"
      ]
     },
     "execution_count": 64,
     "metadata": {},
     "output_type": "execute_result"
    }
   ],
   "source": [
    "text"
   ]
  },
  {
   "cell_type": "code",
   "execution_count": 60,
   "metadata": {},
   "outputs": [
    {
     "data": {
      "text/plain": [
       "'ыа какавуал рубашками'"
      ]
     },
     "execution_count": 60,
     "metadata": {},
     "output_type": "execute_result"
    }
   ],
   "source": []
  },
  {
   "cell_type": "code",
   "execution_count": null,
   "metadata": {},
   "outputs": [],
   "source": []
  },
  {
   "cell_type": "code",
   "execution_count": null,
   "metadata": {},
   "outputs": [],
   "source": []
  }
 ],
 "metadata": {
  "kernelspec": {
   "display_name": "Python 3",
   "language": "python",
   "name": "python3"
  },
  "language_info": {
   "codemirror_mode": {
    "name": "ipython",
    "version": 3
   },
   "file_extension": ".py",
   "mimetype": "text/x-python",
   "name": "python",
   "nbconvert_exporter": "python",
   "pygments_lexer": "ipython3",
   "version": "3.7.5"
  }
 },
 "nbformat": 4,
 "nbformat_minor": 2
}
