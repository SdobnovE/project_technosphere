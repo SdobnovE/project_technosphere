{
 "cells": [
  {
   "cell_type": "code",
   "execution_count": 4,
   "metadata": {},
   "outputs": [],
   "source": [
    "import requests\n",
    "import urllib\n",
    "import json\n",
    "from yandex_dic import DICT_YANDEX_WEB_API"
   ]
  },
  {
   "cell_type": "code",
   "execution_count": 63,
   "metadata": {},
   "outputs": [],
   "source": [
    "key = \"dict.1.1.20191128T185228Z.0bc4a1fee579c4ce.217d9bd27cf4c55d564e01c5a747c1c7276d797d\"\n",
    "\n",
    "site = \"https://dictionary.yandex.net/api/v1/dicservice.json/lookup?key=\" + key\n",
    "site1 = site + \"&lang=ru-ru&text=\""
   ]
  },
  {
   "cell_type": "code",
   "execution_count": 64,
   "metadata": {},
   "outputs": [
    {
     "data": {
      "text/plain": [
       "'https://dictionary.yandex.net/api/v1/dicservice.json/lookup?key=dict.1.1.20191128T185228Z.0bc4a1fee579c4ce.217d9bd27cf4c55d564e01c5a747c1c7276d797d'"
      ]
     },
     "execution_count": 64,
     "metadata": {},
     "output_type": "execute_result"
    }
   ],
   "source": [
    "site"
   ]
  },
  {
   "cell_type": "code",
   "execution_count": 65,
   "metadata": {
    "scrolled": true
   },
   "outputs": [],
   "source": [
    "response = requests.get(\"https://dictionary.yandex.net/api/v1/dicservice.json/lookup?key=dict.1.1.20191128T185228Z.0bc4a1fee579c4ce.217d9bd27cf4c55d564e01c5a747c1c7276d797d&lang=ru-ru&text=Привет\")"
   ]
  },
  {
   "cell_type": "code",
   "execution_count": 78,
   "metadata": {},
   "outputs": [
    {
     "data": {
      "text/plain": [
       "True"
      ]
     },
     "execution_count": 78,
     "metadata": {},
     "output_type": "execute_result"
    }
   ],
   "source": [
    "response.status_code"
   ]
  },
  {
   "cell_type": "code",
   "execution_count": 43,
   "metadata": {},
   "outputs": [],
   "source": [
    "res = json.loads(response.text)"
   ]
  },
  {
   "cell_type": "code",
   "execution_count": 1,
   "metadata": {},
   "outputs": [
    {
     "ename": "NameError",
     "evalue": "name 'res' is not defined",
     "output_type": "error",
     "traceback": [
      "\u001b[0;31m---------------------------------------------------------------------------\u001b[0m",
      "\u001b[0;31mNameError\u001b[0m                                 Traceback (most recent call last)",
      "\u001b[0;32m<ipython-input-1-c08785e04264>\u001b[0m in \u001b[0;36m<module>\u001b[0;34m\u001b[0m\n\u001b[0;32m----> 1\u001b[0;31m \u001b[0mres\u001b[0m\u001b[0;34m\u001b[0m\u001b[0;34m\u001b[0m\u001b[0m\n\u001b[0m",
      "\u001b[0;31mNameError\u001b[0m: name 'res' is not defined"
     ]
    }
   ],
   "source": [
    "res"
   ]
  },
  {
   "cell_type": "code",
   "execution_count": 57,
   "metadata": {},
   "outputs": [
    {
     "ename": "IndexError",
     "evalue": "list index out of range",
     "output_type": "error",
     "traceback": [
      "\u001b[0;31m---------------------------------------------------------------------------\u001b[0m",
      "\u001b[0;31mIndexError\u001b[0m                                Traceback (most recent call last)",
      "\u001b[0;32m<ipython-input-57-e3caf6fd92c1>\u001b[0m in \u001b[0;36m<module>\u001b[0;34m\u001b[0m\n\u001b[0;32m----> 1\u001b[0;31m \u001b[0mres\u001b[0m\u001b[0;34m[\u001b[0m\u001b[0;34m\"def\"\u001b[0m\u001b[0;34m]\u001b[0m\u001b[0;34m[\u001b[0m\u001b[0;36m0\u001b[0m\u001b[0;34m]\u001b[0m\u001b[0;34m[\u001b[0m\u001b[0;34m\"tr\"\u001b[0m\u001b[0;34m]\u001b[0m\u001b[0;34m[\u001b[0m\u001b[0;36m5\u001b[0m\u001b[0;34m]\u001b[0m\u001b[0;34m\u001b[0m\u001b[0;34m\u001b[0m\u001b[0m\n\u001b[0m",
      "\u001b[0;31mIndexError\u001b[0m: list index out of range"
     ]
    }
   ],
   "source": [
    "res[\"def\"][0][\"tr\"]"
   ]
  },
  {
   "cell_type": "code",
   "execution_count": 210,
   "metadata": {},
   "outputs": [],
   "source": [
    "class DICT_YANDEX_WEB_API:\n",
    "    \n",
    "    def __init__(self, key, num_sin=3, lang=\"ru-ru\"):\n",
    "        self.lang = lang\n",
    "        self.key = key\n",
    "        self.num_sin = num_sin\n",
    "        self.addr = (\"https://dictionary.yandex.net/api/v1/dicservice.json/lookup?key=\"\n",
    "                     + self.key + \"&lang=ru-ru&text=\")\n",
    "       \n",
    "    def parse_json(self, response):\n",
    "        \n",
    "            pr = json.loads(response.text)\n",
    "            if len(pr[\"def\"]) == 0:\n",
    "                return None\n",
    "            res = json.loads(response.text)[\"def\"][0][\"tr\"]\n",
    "            \n",
    "            ln = len(res)\n",
    "            result = []\n",
    "            for i in range(min(ln, self.num_sin)):\n",
    "                result.append(res[i][\"text\"] + \" \")\n",
    "            return \"\".join(result)\n",
    "    \n",
    "    def get_sinonims(self, word):\n",
    "        response = \"\"\n",
    "        for i in range(5):\n",
    "            response = requests.get(self.addr + word)\n",
    "            if response.status_code == 200:\n",
    "                break\n",
    "            elif response.status_code == 401:\n",
    "                print(\"Невалидный ключ\")\n",
    "                return None\n",
    "            elif response.status_code == 402:\n",
    "                print(\"Ключ заблочен\")\n",
    "                return None\n",
    "            elif response.status_code == 403:\n",
    "                print(\"Превышено суточное ограничение на количество запросов.\")\n",
    "                return None\n",
    "            elif response.status_code == 413:\n",
    "                print(\"Превышен размер текста\")\n",
    "                return None\n",
    "            elif response.status_code == 501:\n",
    "                print(\"Заданное напрвление не поддерживается\")\n",
    "                return None\n",
    "        if response.status_code != 200:\n",
    "            print(\"ERROR\")\n",
    "            return None\n",
    "        \n",
    "        return self.parse_json(response)\n",
    "        \n",
    "        \n",
    "        \n",
    "                \n",
    "            \n",
    "            \n",
    "        \n",
    "        "
   ]
  },
  {
   "cell_type": "code",
   "execution_count": 211,
   "metadata": {},
   "outputs": [],
   "source": [
    "dic = DICT_YANDEX_WEB_API(key, num_sin=10)"
   ]
  },
  {
   "cell_type": "code",
   "execution_count": 216,
   "metadata": {},
   "outputs": [
    {
     "data": {
      "text/plain": [
       "'паприка пимент чувак пикантность растение '"
      ]
     },
     "execution_count": 216,
     "metadata": {},
     "output_type": "execute_result"
    }
   ],
   "source": [
    "dic.get_sinonims(\"перец\")"
   ]
  },
  {
   "cell_type": "code",
   "execution_count": null,
   "metadata": {},
   "outputs": [],
   "source": []
  },
  {
   "cell_type": "code",
   "execution_count": null,
   "metadata": {},
   "outputs": [],
   "source": []
  },
  {
   "cell_type": "code",
   "execution_count": null,
   "metadata": {},
   "outputs": [],
   "source": []
  }
 ],
 "metadata": {
  "kernelspec": {
   "display_name": "Python 3",
   "language": "python",
   "name": "python3"
  },
  "language_info": {
   "codemirror_mode": {
    "name": "ipython",
    "version": 3
   },
   "file_extension": ".py",
   "mimetype": "text/x-python",
   "name": "python",
   "nbconvert_exporter": "python",
   "pygments_lexer": "ipython3",
   "version": "3.7.5"
  }
 },
 "nbformat": 4,
 "nbformat_minor": 2
}
